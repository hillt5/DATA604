{
 "cells": [
  {
   "cell_type": "markdown",
   "metadata": {},
   "source": [
    "# Thomas Hill, Summer 2020\n",
    "# DATA 604 Final Project:\n",
    "## Simulation of vancomycin dosing regimen using a one-compartment model\n",
    "### Introduction\n",
    "\n",
    "Vancomycin is an essential antibiotic for the management of serious infections. It is a common adjuvant to broad spectrum or empiric antimicrobial therapy, and has excellent Gram positive bacterial coverage,including methicillin-resistant Staphylococcus aureus (MRSA). Typically, vancomycin and other antibiotics will be started as soon as an initial microbiology sample is collected, and once bacterial culture and susceptibilities are identified a more specific drug can be selected for the infection.\n",
    "\n",
    "A common feature of vancomycin therapy is monitoring of drug concentrations, owing to the drug’s narrow therapeutic index. Like many antibiotics, vancomycin must achieve an adequate tissue concentration toinhibit and kill bacteria. However, high vancomycin levels are associated with nephrotoxicity and reversible kidney injury, as well as ototoxicity and worsening of existing hearing impairment. Vancomycin blood concentrations are taken 30 minutes prior to the next dose for a trough level, and dose and sometimes frequency of administration are adjusted."
   ]
  },
  {
   "cell_type": "markdown",
   "metadata": {},
   "source": [
    "### Modeling Approach/ Justification\n",
    "\n",
    "Vancomycin is a straightforward medication to model, as its therapeutic and toxic concentrations are well defined, it diffuses predictably into most body tissues from the bloodstream, and clearance from the body is as unchanged drug via glomerular filtration in the kidneys. For this model I will simulate recurrent intermittent infusions overlying first-order elimination. Similar to the SIRS model studied in class, pharmacokinecis often use a 'compartment' scheme of modeling. Depending on the route of administration and site of action, drugs may be modeled by a 1-, 2-, or 3-compartment model. Vancomycin is ideally mondeled during a two-compartment model as this ensures considerations for protein binding in the bloodstream and dissipation throughout the whole body, but for my purposes I am primarily interested in measurable concentrations in the bloodstream. \n",
    "\n",
    "A one-compartment model is primarily dependent on the current drug concentration and the elimination constant ke (min**-1), which is the ratio of drug clearance (mL/min) to apparent volume of distribution (L) within the body. I will derive these latter two from randomly generated patient demographics to obtain a personal ke.  Additionally, I will base vancomycin dosing on generally accepted standards of therapy. "
   ]
  },
  {
   "cell_type": "markdown",
   "metadata": {},
   "source": [
    "### Goals\n",
    " \n",
    "The purpose of the simulation is to explore practical issues related to vancomycin dosing, and validate the common dosing conventions and standard procedures are valid for the majority of patients. Primarily, I am interested in the most common  regimen in patients with stable renal function: three doses given equal intervals apart, then an initial trough concentration taken prior to the fourth dose.  The fourth dose is significant as this is expected to be the earliest that vancomycin is at steady state, or reaching a stable dose-to-dose concentration. To measure the success, I will look at the final trough concentration at 72 hours and see if it therapeutic. Additionally, I will look at the trough prior to 4th dose and see if it also is therapeutic, and potentially model a dose change if the trough level isn't within the target range. \n",
    " "
   ]
  },
  {
   "cell_type": "markdown",
   "metadata": {},
   "source": [
    "Using SimPy, write a process simulation that includes waiting time (discrete event simulation).  You may use any topic of interest to you.  Write the simulation and all of the following in Jupyter.\n",
    "\n",
    "Each element is worth 5 points and will be graded using the rubric shown here.\n",
    "\n",
    "1.  State the problem and its significance.\n",
    "\n",
    "2.  Provide a flow-chart model. \n",
    "\n",
    "3.  Simulate the process for the appropriate number of iterations (justify)\n",
    "\n",
    "4.  Justify the validity of the model and discuss how you verified it.\n",
    "\n",
    "5.  State  your conclusions/ findings from the model. \n",
    "\n",
    "6.  Generate appropriate graphs (more than one) to illustrate the results and provide a PowerPoint presentation to share with your colleagues.  Post this to the discussion. \n",
    "\n",
    "Be sure that your code works!\n"
   ]
  },
  {
   "cell_type": "markdown",
   "metadata": {},
   "source": [
    "### Flow Chart"
   ]
  },
  {
   "cell_type": "markdown",
   "metadata": {},
   "source": [
    "### Simulation"
   ]
  },
  {
   "cell_type": "code",
   "execution_count": 1,
   "metadata": {},
   "outputs": [],
   "source": [
    "%matplotlib inline\n",
    "import numpy as np\n",
    "import matplotlib.pyplot as plt\n",
    "from scipy.integrate import odeint\n",
    "from modsim import *\n",
    "from math import floor\n",
    "\n",
    "# set the random number generator\n",
    "np.random.seed(11206)"
   ]
  },
  {
   "cell_type": "code",
   "execution_count": 2,
   "metadata": {},
   "outputs": [],
   "source": [
    "#define three functions to better assign values based on patient characteristics\n",
    "\n",
    "def get_age(turn, end, size): #I Googled 'trapezoidal distribution' to better model age\n",
    "    pass\n",
    "    totarea = turn + (end-turn)/2  # rectangle + triangle\n",
    "    areauptoturn = turn             # rectangle\n",
    "    areasloped = (end-turn)/2     # triangle\n",
    "    size1= int(size*areauptoturn/totarea)\n",
    "    size2= size- size1 \n",
    "    s1 = np.random.uniform(low=0,high=turn,size= size1)  # (low=0.0, high=1.0, size=None)\n",
    "    s2 = np.random.triangular(left=turn,mode=turn,right=end,size=size2) #(left, mode, right, size=None)\n",
    "            # mode : scalar-  the value where the peak of the distribution occurs. \n",
    "            #The value should fulfill the condition left <= mode <= right.\n",
    "    s3= np.concatenate((s1,s2)) # don't use add , it will add the numbers piecewise\n",
    "    return s3\n",
    "\n",
    "\n",
    "age_dist = 20 + get_age(40,60, 4000)\n",
    "\n",
    "def get_weight(gender):\n",
    "    if gender == 0:\n",
    "        np.random.normal(77.3,12)\n",
    "    else:\n",
    "        np.random.normal(89.7,12)\n",
    "\n",
    "        \n",
    "def CrCl_wt(weight): #the Crockoft-Gault equation works best when it does not overestimate body weight > 72kg\n",
    "    if weight <= 72:\n",
    "        return weight\n",
    "    else:\n",
    "        return 72\n",
    "    \n",
    "\n",
    "def get_CrCl(params): #the Crockoft-Gault equation works best when it does not overestimate body weight > 72kg\n",
    "    CrCl = (140 - params.age) * (CrCl_wt(params.weight))/(72 * params.scr)\n",
    "    if params.gender == 0:\n",
    "         return 0.85 * CrCl\n",
    "    else:\n",
    "        return CrCl\n",
    "\n",
    "    \n",
    "def get_tau(params): #dosing frequency is based on stepwise cutoffs of renal function\n",
    "    if get_CrCl(params) < 40:\n",
    "        return 24\n",
    "    elif get_CrCl(params) > 60:\n",
    "        return 8\n",
    "    else:\n",
    "        return 12\n",
    "            #If CrCl >60ml/min then q8h; if CrCl 40 - 60ml/min, then q12h; if CrCl <40, then q24h"
   ]
  },
  {
   "cell_type": "code",
   "execution_count": 12,
   "metadata": {},
   "outputs": [
    {
     "data": {
      "text/plain": [
       "'if loading dose is wanted, let C_0 = 25*params.weight/V[0]'"
      ]
     },
     "execution_count": 12,
     "metadata": {},
     "output_type": "execute_result"
    }
   ],
   "source": [
    "#define inital parameter of concentration where initial concentration is zero\n",
    "\n",
    "def get_patient():\n",
    "    gender = np.random.randint(0,2)\n",
    "    age = int(np.random.choice(age_dist))\n",
    "    scr = np.random.uniform(0.6,1.2)\n",
    "    params = Params(gender = gender, age = age, \n",
    "                    weight = np.random.normal(77.3+(89.7-77.3)*gender, 12),  #normally distributed, dependent on gender\n",
    "                    height = np.random.normal(1.615+(1.753-1.615)*gender, 0.0711+(0.0742-0.0711)*gender), #normally distributed, dependent on gender\n",
    "                 scr = scr\n",
    "                   )\n",
    "\n",
    "    return params \n",
    "\n",
    "\n",
    "def get_vanco_dosing(params):\n",
    "    \n",
    "    V = np.random.uniform(0.7,0.9)*params.weight, #volume of drug distribution, liters\n",
    "    CL = 3.66 + 0.06 * (0.689 * get_CrCl(params)),\n",
    "    wt = params.weight\n",
    "    Dose = 250*round(17.5 * params.weight/250, 0), #rounds dose to the nearest 250mg\n",
    "    T_infuse = float(0.5*round(250*round(17.5 * params.weight/250, 0)/500, 0)), #infuse 500mg over 30 minutes, or 1/2 hour\n",
    "    Tau = get_tau(params) #dosing frequency in hours, based on renal function CrCl \n",
    "    \n",
    "    return Params(C_0 = 0, CL = CL[0], V = V[0], Dose = Dose[0], T_infuse = T_infuse[0], Tau = Tau)\n",
    "'''if loading dose is wanted, let C_0 = 25*params.weight/V[0]'''"
   ]
  },
  {
   "cell_type": "code",
   "execution_count": 4,
   "metadata": {},
   "outputs": [
    {
     "data": {
      "text/plain": [
       "'test_param = []\\nfor i in range(4000):\\n    age = int(np.random.choice(age_dist)) #randomly select age between 20 and 79 years\\n    gender = np.random.randint(0,2) #0 for female, 1 for male\\n    height = np.random.normal(1.615+(1.753-1.615)*gender, 0.0711+(0.0742-0.0711)*gender)\\n    weight = np.random.normal(77.3+(89.7-77.3)*gender, 12)  #normally distributed, dependent on gender\\n    scr = np.random.uniform(0.6,1.2) #uniform distribution of renal function\\n    CrCl = (0.85+0.15*gender)*(140-age)*(CrCl_wt(weight))/(72 * scr) #Crockoft-Gault formula for renal function, mL/min\\n    V = np.random.uniform(0.7,0.9)*weight #volume of drug distribution, liters\\n    CL = 3.66 + 0.06 * (0.689 * CrCl)\\n    k = CL/V\\n    Tau =  get_tau(CrCl)\\n    test_param.append(Tau)\\n\\ntest_param = np.asarray(test_param)    \\nplt.hist(test_param)'"
      ]
     },
     "execution_count": 4,
     "metadata": {},
     "output_type": "execute_result"
    }
   ],
   "source": [
    "#below is some code I used to verify that my parameters were generating suitable distributions of numbers\n",
    "\n",
    "'''test_param = []\n",
    "for i in range(4000):\n",
    "    age = int(np.random.choice(age_dist)) #randomly select age between 20 and 79 years\n",
    "    gender = np.random.randint(0,2) #0 for female, 1 for male\n",
    "    height = np.random.normal(1.615+(1.753-1.615)*gender, 0.0711+(0.0742-0.0711)*gender)\n",
    "    weight = np.random.normal(77.3+(89.7-77.3)*gender, 12)  #normally distributed, dependent on gender\n",
    "    scr = np.random.uniform(0.6,1.2) #uniform distribution of renal function\n",
    "    CrCl = (0.85+0.15*gender)*(140-age)*(CrCl_wt(weight))/(72 * scr) #Crockoft-Gault formula for renal function, mL/min\n",
    "    V = np.random.uniform(0.7,0.9)*weight #volume of drug distribution, liters\n",
    "    CL = 3.66 + 0.06 * (0.689 * CrCl)\n",
    "    k = CL/V\n",
    "    Tau =  get_tau(CrCl)\n",
    "    test_param.append(Tau)\n",
    "\n",
    "test_param = np.asarray(test_param)    \n",
    "plt.hist(test_param)'''"
   ]
  },
  {
   "cell_type": "code",
   "execution_count": 13,
   "metadata": {},
   "outputs": [],
   "source": [
    "#define system to model vanco dose over time\n",
    "\n",
    "def make_system(params):\n",
    "    \n",
    "    \n",
    "    \"\"\"Makes a System object with the given parameters.\n",
    "    params: sequence of C_0, CL, V, Dose, T_infuse, Tau\n",
    "    \n",
    "    C_0 = initial concentration, \n",
    "    V = apparent volume of distribution, L\n",
    "    CL = drug clearance, L/hr\n",
    "    Dose = recommended vancomycin dose, mg\n",
    "    T_infuse = infusion rate based on vanco dose, hours\n",
    "    Tau = frequency of dosing interval\n",
    "    \n",
    "    returns: System object\n",
    "    \"\"\"\n",
    "    C_0, CL, V, Dose, T_infuse, Tau = params\n",
    "    \n",
    "    t_0 = 0\n",
    "    t_end = 72\n",
    "    \n",
    "    init = State(Conc = C_0)\n",
    "\n",
    "    return System(params, init = init, t_0 = t_0, t_end = t_end, dt = 0.5)"
   ]
  },
  {
   "cell_type": "code",
   "execution_count": 6,
   "metadata": {},
   "outputs": [],
   "source": [
    "#create dosing function for simulation of intravenous infusion\n",
    "\n",
    "# infusion function\n",
    "def infusion(system, t):\n",
    "    if t % system.Tau < system.T_infuse: #this checks whether a repeat dose is due \n",
    "        return system.Dose/system.T_infuse #intermittent dose administration\n",
    "    else:\n",
    "        return 0 #dose is 0 when between doses\n",
    "\n",
    "#create update function for system\n",
    "def update_func(state, t, system):\n",
    "    \"\"\"Updates the vancomycin one-compartment model.\n",
    "    \n",
    "    state: State object\n",
    "    t: time in hours\n",
    "    system: System object\n",
    "    \n",
    "    returns: State object\n",
    "    \"\"\"\n",
    "    Conc = state\n",
    "    V, CL, T_infuse, Tau, dt = system.V, system.CL, system.T_infuse, system.Tau, system.dt \n",
    "        \n",
    "    dcdt =  infusion(system, t) /V - (CL/V)*Conc\n",
    "    \n",
    "    Conc += dcdt * dt\n",
    "\n",
    "    return State(Conc = Conc)"
   ]
  },
  {
   "cell_type": "code",
   "execution_count": 7,
   "metadata": {},
   "outputs": [],
   "source": [
    "def run_simulation(system, update_func):\n",
    "    \"\"\"Runs a simulation of the system.\n",
    "        \n",
    "    system: System object\n",
    "    update_func: function that updates state\n",
    "    \n",
    "    returns: TimeFrame\n",
    "    \"\"\"\n",
    "    init = system.init\n",
    "    t_0, t_end, dt = system.t_0, system.t_end, system.dt\n",
    "    \n",
    "    frame = TimeFrame(columns=init.index)\n",
    "    frame.row[t_0] = init\n",
    "    ts = linrange(t_0, t_end, dt)\n",
    "    \n",
    "    for t in ts:\n",
    "        frame.row[t+dt] = update_func(frame.row[t], t, system)\n",
    "    \n",
    "    return frame"
   ]
  },
  {
   "cell_type": "code",
   "execution_count": 14,
   "metadata": {},
   "outputs": [],
   "source": [
    "params = get_patient()\n",
    "test_vanco = get_vanco_dosing(params)\n",
    "test_system = make_system(test_vanco)\n",
    "test_results = run_simulation(test_system, update_func)"
   ]
  },
  {
   "cell_type": "code",
   "execution_count": 15,
   "metadata": {},
   "outputs": [
    {
     "data": {
      "image/png": "[encoded data removed]",
      "text/plain": [
       "<Figure size 432x288 with 1 Axes>"
      ]
     },
     "metadata": {},
     "output_type": "display_data"
    }
   ],
   "source": [
    "\n",
    "def plot_concentration(results):\n",
    "    plot(results.Conc)\n",
    "    plt.plot(plt.xlim(),[14.5,14.5],'g--',plt.xlim(),[21,21],'r--')\n",
    "    plt.legend(['Vancomycin Concentration','Minimum trough concentration','Maximum trough concentration'])\n",
    "    plt.xlabel('Time [hrs]')\n",
    "    plt.ylabel('Concentration [mcg/mL]')\n",
    "    plt.title('Vancomycin concentration, One-compartment Model');\n",
    "\n",
    "plot_concentration(test_results)"
   ]
  },
  {
   "cell_type": "markdown",
   "metadata": {},
   "source": [
    "### Model Validation\n",
    "\n",
    "The most appropriate model validation I chose to use was to see whether the concentrations predicted by my model fell within an acceptable range of values. This dosing regimen should generate trough concentrations between 15 and 20 micgrograms/milliliter"
   ]
  },
  {
   "cell_type": "markdown",
   "metadata": {},
   "source": [
    "### Conclusions and future directions"
   ]
  },
  {
   "cell_type": "markdown",
   "metadata": {},
   "source": [
    "### Sources and further reading\n",
    "\n",
    "Inspiration for simulating vancomycin pharmacokinetics: a Github repository for vancomycin Shiny app. This is based on a two-compartment model  https://github.com/asancpt/shiny-vtdm\n",
    "\n",
    "Code basis for one-compartment pharmacokinetics: https://jckantor.github.io/CBE30338/03.05-One-Compartment-Pharmacokinetics.html\n",
    "\n"
   ]
  },
  {
   "cell_type": "code",
   "execution_count": null,
   "metadata": {},
   "outputs": [],
   "source": []
  }
 ],
 "metadata": {
  "kernelspec": {
   "display_name": "Python 3",
   "language": "python",
   "name": "python3"
  },
  "language_info": {
   "codemirror_mode": {
    "name": "ipython",
    "version": 3
   },
   "file_extension": ".py",
   "mimetype": "text/x-python",
   "name": "python",
   "nbconvert_exporter": "python",
   "pygments_lexer": "ipython3",
   "version": "3.7.6"
  }
 },
 "nbformat": 4,
 "nbformat_minor": 4
}
